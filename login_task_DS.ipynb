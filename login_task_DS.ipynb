{
  "nbformat": 4,
  "nbformat_minor": 0,
  "metadata": {
    "colab": {
      "provenance": [],
      "collapsed_sections": [],
      "authorship_tag": "ABX9TyOwj8n7JtO9vfCXfKDt7/l4",
      "include_colab_link": true
    },
    "kernelspec": {
      "name": "python3",
      "display_name": "Python 3"
    },
    "language_info": {
      "name": "python"
    }
  },
  "cells": [
    {
      "cell_type": "markdown",
      "metadata": {
        "id": "view-in-github",
        "colab_type": "text"
      },
      "source": [
        "<a href=\"https://colab.research.google.com/github/lohit77/lohit77/blob/main/login_task_DS.ipynb\" target=\"_parent\"><img src=\"https://colab.research.google.com/assets/colab-badge.svg\" alt=\"Open In Colab\"/></a>"
      ]
    },
    {
      "cell_type": "code",
      "execution_count": 1,
      "metadata": {
        "id": "j92VPYjib07s",
        "colab": {
          "base_uri": "https://localhost:8080/"
        },
        "outputId": "d08a2255-44fb-432c-df59-5fe48fbac883"
      },
      "outputs": [
        {
          "output_type": "stream",
          "name": "stdout",
          "text": [
            "Hello patron To Login, you have to register using a valid email id\n",
            "\n",
            "Enter your Email id :  \n",
            "lohi@gmail.com\n",
            "Valid email\n",
            "\n",
            "Password condition \n",
            " 1)Length should be greater than 7 and less than 12\n",
            " 2)At least one lowercase character (a-z) and one uppercase character (A-Z)\n",
            " 3)At least one digit (0-9)\n",
            " 4)At least one symbol (? . , ! _ - ~ $ % + = @)\n",
            "Please enter your Password: \n",
            "··········\n",
            "Password is valid\n",
            "\n",
            "You have been successfully registered\n",
            "\n"
          ]
        }
      ],
      "source": [
        "#Login Task\n",
        "\n",
        "\n",
        "\n",
        "import re\n",
        "\n",
        "print(\"Hello patron To Login, you have to register using a valid email id\\n\")\n",
        "Email=input(\"Enter your Email id :  \\n\")                                         #asking the user to enter Email\n",
        "condition='[A-Za-z]+[A-Za-z0-9_+*]+@[A-Za-z0-9]+\\.[A-Za-z]{2,}'                  #Email condition\n",
        "\n",
        "                 \n",
        "def verify(Email):\n",
        "          if re.search(\"^1\",Email):                                              # verify whether the entered Email is valid or not\n",
        "            print(\"Invalid email\")\n",
        "          else:\n",
        "            if(re.fullmatch(condition,Email)):\n",
        "              print(\"Valid email\\n\")\n",
        "            else:\n",
        "              print(\"Invalid Email \")\n",
        "              Email=input(\"Enter your Email id:  \")\n",
        "              verify(Email)\n",
        "\n",
        "\n",
        "verify(Email)\n",
        "\n",
        "\n",
        "\n",
        "\n",
        "\n",
        "print(\"Password condition \\n 1)Length should be greater than 7 and less than 12\\n 2)At least one lowercase character (a-z) and one uppercase character (A-Z)\\n 3)At least one digit (0-9)\\n 4)At least one symbol (? . , ! _ - ~ $ % + = @)\")\n",
        "\n",
        "import getpass                                                                                 #giving conditions for password \n",
        "class Password:\n",
        "    def getpass():\n",
        "        Password=getpass.getpass()\n",
        "\n",
        "\n",
        "        if (len(Password)<7 or len(Password)>12):                                #checking whether the entered password is accepting the given conditions or not\n",
        "          print(\"Invalid Password. Please enter a valid Password\")\n",
        "        elif not re.search(\"[A-Z]\",Password):\n",
        "          print(\"Invalid Password. Please enter a valid Password\")\n",
        "          getpass()\n",
        "        elif not re.search(\"[a-z]\",Password):\n",
        "          print(\"Invalid Password. Please enter a valid Password\")\n",
        "          getpass()\n",
        "        elif not re.search(\"[0-9]\",Password):\n",
        "          print(\"Invalid Password. Please enter a valid Password\")\n",
        "          getpass()\n",
        "        elif not re.search(\"[@ . , ! _ - ~ $ % + = ?]\",Password):\n",
        "          print(\"Invalid Password. Please enter a valid Password\")\n",
        "          getpass()\n",
        "        else:\n",
        "          print(\"Password is valid\\n\")                                           #if all the conditions are accepted then the registration is successfull\n",
        "          print(\"You have been successfully registered\\n\")\n",
        "        return Password\n",
        "\n",
        "print(\"Please enter your Password: \")\n",
        "Password= Password.getpass()\n",
        "\n",
        "\n",
        "import csv\n",
        "with open(\"Login.csv\",'a') as file:                                              #creating or opening a new csv file\n",
        "      info=csv.writer(file)\n",
        "      info.writerow([Email,Password])\n",
        "\n"
      ]
    }
  ]
}